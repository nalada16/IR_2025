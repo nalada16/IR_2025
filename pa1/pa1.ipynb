{
 "cells": [
  {
   "cell_type": "markdown",
   "id": "5f718951",
   "metadata": {},
   "source": [
    "# hw1\n",
    "extract terms from document"
   ]
  },
  {
   "cell_type": "code",
   "execution_count": 13,
   "id": "412e5c77",
   "metadata": {},
   "outputs": [],
   "source": [
    "with open(\"./1.txt\", \"r\") as file:\n",
    "    doc = file.read()"
   ]
  },
  {
   "cell_type": "code",
   "execution_count": 14,
   "id": "3fa2226b",
   "metadata": {},
   "outputs": [
    {
     "name": "stdout",
     "output_type": "stream",
     "text": [
      "the white house is also keeping a close watch on yugoslavia, where \n",
      "opposition forces are about to step up the pressure on president slobodan \n",
      "milosevic. but will it work? nbc's jim maceda is in belgrade tonight. \n",
      "serbia on the eve of a general strike. this two-hour roadblock is \n",
      "just a taste of what will come tomorrow, says the opposition, when \n",
      "a nationwide work stoppage is to begin. the purpose, to force out \n",
      "the man they say stole the presidential election, slobodan milosevic. \n",
      "the people don't accept to be victim and to be hostage of one person, \n",
      "milosevic. time is working against him now. but will the pressure \n",
      "work? four years ago, hundreds of thousands of serbs marched against \n",
      "milosevic calling for a general strike as well. the protest lasted \n",
      "three months, but milosevic survived. that's the real question. does \n",
      "the opposition have the power to confront the regime with its combined \n",
      "wealth to get rid of it? a case in point. these coal mine, the very \n",
      "heart of serbia's economy, now on strike, only a handful of workers \n",
      "guarding equipment. but with a week of electricity reserves, these \n",
      "engineers are worried about blackouts. \"we're just making a gesture \n",
      "to try to make this regime come to its senses.\" there are difficulties, \n",
      "too, spreading the word about the strike. independent radio station \n",
      "b-292 has been shut down three times. its signal jammed in belgrade \n",
      "leaving journalists frustrated. i'm waiting for a better time when \n",
      "people in belgrade can hear and listening my radio. poorly organized \n",
      "opposition rallies have been shrinking, now drawing barely 10,000 \n",
      "in belgrade. but opposition leaders hope all that will change tomorrow \n",
      "and civil disobedience throughout the land may give new life to their \n",
      "struggle to oust milosevic. jim maceda, nbc news, belgrade.\n"
     ]
    }
   ],
   "source": [
    "print(doc)"
   ]
  },
  {
   "cell_type": "markdown",
   "id": "997e3ff0",
   "metadata": {},
   "source": [
    "## Tokenization & Lowercase\n",
    "1. 把標點符號去掉\n",
    "2. lowercase\n",
    "3. 斷詞\n",
    "4. 連接詞 結尾 's 處理"
   ]
  },
  {
   "cell_type": "code",
   "execution_count": null,
   "id": "81199a5b",
   "metadata": {},
   "outputs": [
    {
     "name": "stdout",
     "output_type": "stream",
     "text": [
      "the white house is also keeping a close watch on yugoslavia where opposition forces are about to step up the pressure on president slobodan milosevic but will it work nbc's jim maceda is in belgrade tonight serbia on the eve of a general strike this two-hour roadblock is just a taste of what will come tomorrow says the opposition when a nationwide work stoppage is to begin the purpose to force out the man they say stole the presidential election slobodan milosevic the people don't accept to be victim and to be hostage of one person milosevic time is working against him now but will the pressure work four years ago hundreds of thousands of serbs marched against milosevic calling for a general strike as well the protest lasted three months but milosevic survived that's the real question does the opposition have the power to confront the regime with its combined wealth to get rid of it a case in point these coal mine the very heart of serbia's economy now on strike only a handful of workers guarding equipment but with a week of electricity reserves these engineers are worried about blackouts we're just making a gesture to try to make this regime come to its senses there are difficulties too spreading the word about the strike independent radio station b-292 has been shut down three times its signal jammed in belgrade leaving journalists frustrated i'm waiting for a better time when people in belgrade can hear and listening my radio poorly organized opposition rallies have been shrinking now drawing barely 10000 in belgrade but opposition leaders hope all that will change tomorrow and civil disobedience throughout the land may give new life to their struggle to oust milosevic jim maceda nbc news belgrade\n"
     ]
    }
   ],
   "source": [
    "# 去除標點符號\n",
    "doc = doc.replace(\",\", \"\").replace(\".\", \"\").replace(\"\\\"\", \"\").replace(\"?\", \"\").replace(\"\\n\",\"\")\n",
    "print(doc)"
   ]
  },
  {
   "cell_type": "code",
   "execution_count": 16,
   "id": "5f64a525",
   "metadata": {},
   "outputs": [
    {
     "name": "stdout",
     "output_type": "stream",
     "text": [
      "the white house is also keeping a close watch on yugoslavia where opposition forces are about to step up the pressure on president slobodan milosevic but will it work nbc's jim maceda is in belgrade tonight serbia on the eve of a general strike this two-hour roadblock is just a taste of what will come tomorrow says the opposition when a nationwide work stoppage is to begin the purpose to force out the man they say stole the presidential election slobodan milosevic the people don't accept to be victim and to be hostage of one person milosevic time is working against him now but will the pressure work four years ago hundreds of thousands of serbs marched against milosevic calling for a general strike as well the protest lasted three months but milosevic survived that's the real question does the opposition have the power to confront the regime with its combined wealth to get rid of it a case in point these coal mine the very heart of serbia's economy now on strike only a handful of workers guarding equipment but with a week of electricity reserves these engineers are worried about blackouts we're just making a gesture to try to make this regime come to its senses there are difficulties too spreading the word about the strike independent radio station b-292 has been shut down three times its signal jammed in belgrade leaving journalists frustrated i'm waiting for a better time when people in belgrade can hear and listening my radio poorly organized opposition rallies have been shrinking now drawing barely 10000 in belgrade but opposition leaders hope all that will change tomorrow and civil disobedience throughout the land may give new life to their struggle to oust milosevic jim maceda nbc news belgrade\n"
     ]
    }
   ],
   "source": [
    "# lowercase\n",
    "doc = doc.lower()\n",
    "print(doc)"
   ]
  },
  {
   "cell_type": "code",
   "execution_count": 17,
   "id": "e3781ab3",
   "metadata": {},
   "outputs": [
    {
     "name": "stdout",
     "output_type": "stream",
     "text": [
      "['the', 'white', 'house', 'is', 'also', 'keeping', 'a', 'close', 'watch', 'on', 'yugoslavia', 'where', 'opposition', 'forces', 'are', 'about', 'to', 'step', 'up', 'the', 'pressure', 'on', 'president', 'slobodan', 'milosevic', 'but', 'will', 'it', 'work', \"nbc's\", 'jim', 'maceda', 'is', 'in', 'belgrade', 'tonight', 'serbia', 'on', 'the', 'eve', 'of', 'a', 'general', 'strike', 'this', 'two-hour', 'roadblock', 'is', 'just', 'a', 'taste', 'of', 'what', 'will', 'come', 'tomorrow', 'says', 'the', 'opposition', 'when', 'a', 'nationwide', 'work', 'stoppage', 'is', 'to', 'begin', 'the', 'purpose', 'to', 'force', 'out', 'the', 'man', 'they', 'say', 'stole', 'the', 'presidential', 'election', 'slobodan', 'milosevic', 'the', 'people', \"don't\", 'accept', 'to', 'be', 'victim', 'and', 'to', 'be', 'hostage', 'of', 'one', 'person', 'milosevic', 'time', 'is', 'working', 'against', 'him', 'now', 'but', 'will', 'the', 'pressure', 'work', 'four', 'years', 'ago', 'hundreds', 'of', 'thousands', 'of', 'serbs', 'marched', 'against', 'milosevic', 'calling', 'for', 'a', 'general', 'strike', 'as', 'well', 'the', 'protest', 'lasted', 'three', 'months', 'but', 'milosevic', 'survived', \"that's\", 'the', 'real', 'question', 'does', 'the', 'opposition', 'have', 'the', 'power', 'to', 'confront', 'the', 'regime', 'with', 'its', 'combined', 'wealth', 'to', 'get', 'rid', 'of', 'it', 'a', 'case', 'in', 'point', 'these', 'coal', 'mine', 'the', 'very', 'heart', 'of', \"serbia's\", 'economy', 'now', 'on', 'strike', 'only', 'a', 'handful', 'of', 'workers', 'guarding', 'equipment', 'but', 'with', 'a', 'week', 'of', 'electricity', 'reserves', 'these', 'engineers', 'are', 'worried', 'about', 'blackouts', \"we're\", 'just', 'making', 'a', 'gesture', 'to', 'try', 'to', 'make', 'this', 'regime', 'come', 'to', 'its', 'senses', 'there', 'are', 'difficulties', 'too', 'spreading', 'the', 'word', 'about', 'the', 'strike', 'independent', 'radio', 'station', 'b-292', 'has', 'been', 'shut', 'down', 'three', 'times', 'its', 'signal', 'jammed', 'in', 'belgrade', 'leaving', 'journalists', 'frustrated', \"i'm\", 'waiting', 'for', 'a', 'better', 'time', 'when', 'people', 'in', 'belgrade', 'can', 'hear', 'and', 'listening', 'my', 'radio', 'poorly', 'organized', 'opposition', 'rallies', 'have', 'been', 'shrinking', 'now', 'drawing', 'barely', '10000', 'in', 'belgrade', 'but', 'opposition', 'leaders', 'hope', 'all', 'that', 'will', 'change', 'tomorrow', 'and', 'civil', 'disobedience', 'throughout', 'the', 'land', 'may', 'give', 'new', 'life', 'to', 'their', 'struggle', 'to', 'oust', 'milosevic', 'jim', 'maceda', 'nbc', 'news', 'belgrade']\n"
     ]
    }
   ],
   "source": [
    "# 斷詞\n",
    "# 直接依據空白切割\n",
    "tokens = [i for i in doc.split(\" \")]\n",
    "print(tokens)"
   ]
  },
  {
   "cell_type": "code",
   "execution_count": 18,
   "id": "59e4c311",
   "metadata": {},
   "outputs": [
    {
     "name": "stdout",
     "output_type": "stream",
     "text": [
      "['the', 'white', 'house', 'is', 'also', 'keeping', 'a', 'close', 'watch', 'on', 'yugoslavia', 'where', 'opposition', 'forces', 'are', 'about', 'to', 'step', 'up', 'the', 'pressure', 'on', 'president', 'slobodan', 'milosevic', 'but', 'will', 'it', 'work', 'jim', 'maceda', 'is', 'in', 'belgrade', 'tonight', 'serbia', 'on', 'the', 'eve', 'of', 'a', 'general', 'strike', 'this', 'two-hour', 'roadblock', 'is', 'just', 'a', 'taste', 'of', 'what', 'will', 'come', 'tomorrow', 'says', 'the', 'opposition', 'when', 'a', 'nationwide', 'work', 'stoppage', 'is', 'to', 'begin', 'the', 'purpose', 'to', 'force', 'out', 'the', 'man', 'they', 'say', 'stole', 'the', 'presidential', 'election', 'slobodan', 'milosevic', 'the', 'people', 'accept', 'to', 'be', 'victim', 'and', 'to', 'be', 'hostage', 'of', 'one', 'person', 'milosevic', 'time', 'is', 'working', 'against', 'him', 'now', 'but', 'will', 'the', 'pressure', 'work', 'four', 'years', 'ago', 'hundreds', 'of', 'thousands', 'of', 'serbs', 'marched', 'against', 'milosevic', 'calling', 'for', 'a', 'general', 'strike', 'as', 'well', 'the', 'protest', 'lasted', 'three', 'months', 'but', 'milosevic', 'survived', 'the', 'real', 'question', 'does', 'the', 'opposition', 'have', 'the', 'power', 'to', 'confront', 'the', 'regime', 'with', 'its', 'combined', 'wealth', 'to', 'get', 'rid', 'of', 'it', 'a', 'case', 'in', 'point', 'these', 'coal', 'mine', 'the', 'very', 'heart', 'of', 'economy', 'now', 'on', 'strike', 'only', 'a', 'handful', 'of', 'workers', 'guarding', 'equipment', 'but', 'with', 'a', 'week', 'of', 'electricity', 'reserves', 'these', 'engineers', 'are', 'worried', 'about', 'blackouts', 'just', 'making', 'a', 'gesture', 'to', 'try', 'to', 'make', 'this', 'regime', 'come', 'to', 'its', 'senses', 'there', 'are', 'difficulties', 'too', 'spreading', 'the', 'word', 'about', 'the', 'strike', 'independent', 'radio', 'station', 'b-292', 'has', 'been', 'shut', 'down', 'three', 'times', 'its', 'signal', 'jammed', 'in', 'belgrade', 'leaving', 'journalists', 'frustrated', 'waiting', 'for', 'a', 'better', 'time', 'when', 'people', 'in', 'belgrade', 'can', 'hear', 'and', 'listening', 'my', 'radio', 'poorly', 'organized', 'opposition', 'rallies', 'have', 'been', 'shrinking', 'now', 'drawing', 'barely', '10000', 'in', 'belgrade', 'but', 'opposition', 'leaders', 'hope', 'all', 'that', 'will', 'change', 'tomorrow', 'and', 'civil', 'disobedience', 'throughout', 'the', 'land', 'may', 'give', 'new', 'life', 'to', 'their', 'struggle', 'to', 'oust', 'milosevic', 'jim', 'maceda', 'nbc', 'news', 'belgrade', 'nbc', 'twohour', 'don', 'that', 'serbia', 'we', 'b292', 'i']\n"
     ]
    }
   ],
   "source": [
    "# 's 字尾直接去掉\n",
    "# - 有沒有斷都存\n",
    "for i in tokens:\n",
    "    if '\\'' in i:\n",
    "        tokens.remove(i)\n",
    "        tokens.append(i.split('\\'')[0])\n",
    "    if '-' in i:\n",
    "        tokens.append(i.replace(\"-\", \"\"))\n",
    "\n",
    "print(tokens)"
   ]
  },
  {
   "cell_type": "markdown",
   "id": "045c5d11",
   "metadata": {},
   "source": [
    "## Stopword Removal"
   ]
  },
  {
   "cell_type": "code",
   "execution_count": 19,
   "id": "95056bff",
   "metadata": {},
   "outputs": [
    {
     "name": "stdout",
     "output_type": "stream",
     "text": [
      "['a', 'about', 'above', 'after', 'again', 'against', 'ain', 'all', 'am', 'an', 'and', 'any', 'are', 'aren', \"aren't\", 'as', 'at', 'be', 'because', 'been', 'before', 'being', 'below', 'between', 'both', 'but', 'by', 'can', 'couldn', \"couldn't\", 'd', 'did', 'didn', \"didn't\", 'do', 'does', 'doesn', \"doesn't\", 'doing', 'don', \"don't\", 'down', 'during', 'each', 'few', 'for', 'from', 'further', 'had', 'hadn', \"hadn't\", 'has', 'hasn', \"hasn't\", 'have', 'haven', \"haven't\", 'having', 'he', \"he'd\", \"he'll\", 'her', 'here', 'hers', 'herself', \"he's\", 'him', 'himself', 'his', 'how', 'i', \"i'd\", 'if', \"i'll\", \"i'm\", 'in', 'into', 'is', 'isn', \"isn't\", 'it', \"it'd\", \"it'll\", \"it's\", 'its', 'itself', \"i've\", 'just', 'll', 'm', 'ma', 'me', 'mightn', \"mightn't\", 'more', 'most', 'mustn', \"mustn't\", 'my', 'myself', 'needn', \"needn't\", 'no', 'nor', 'not', 'now', 'o', 'of', 'off', 'on', 'once', 'only', 'or', 'other', 'our', 'ours', 'ourselves', 'out', 'over', 'own', 're', 's', 'same', 'shan', \"shan't\", 'she', \"she'd\", \"she'll\", \"she's\", 'should', 'shouldn', \"shouldn't\", \"should've\", 'so', 'some', 'such', 't', 'than', 'that', \"that'll\", 'the', 'their', 'theirs', 'them', 'themselves', 'then', 'there', 'these', 'they', \"they'd\", \"they'll\", \"they're\", \"they've\", 'this', 'those', 'through', 'to', 'too', 'under', 'until', 'up', 've', 'very', 'was', 'wasn', \"wasn't\", 'we', \"we'd\", \"we'll\", \"we're\", 'were', 'weren', \"weren't\", \"we've\", 'what', 'when', 'where', 'which', 'while', 'who', 'whom', 'why', 'will', 'with', 'won', \"won't\", 'wouldn', \"wouldn't\", 'y', 'you', \"you'd\", \"you'll\", 'your', \"you're\", 'yours', 'yourself', 'yourselves', \"you've\"]\n"
     ]
    }
   ],
   "source": [
    "from nltk.corpus import stopwords\n",
    "stopword = stopwords.words(\"english\")\n",
    "print(stopword)"
   ]
  },
  {
   "cell_type": "code",
   "execution_count": 20,
   "id": "22cff634",
   "metadata": {},
   "outputs": [
    {
     "name": "stdout",
     "output_type": "stream",
     "text": [
      "['white', 'house', 'also', 'keeping', 'close', 'watch', 'yugoslavia', 'opposition', 'forces', 'step', 'pressure', 'president', 'slobodan', 'milosevic', 'work', 'jim', 'maceda', 'belgrade', 'tonight', 'serbia', 'eve', 'general', 'strike', 'two-hour', 'roadblock', 'taste', 'come', 'tomorrow', 'says', 'opposition', 'nationwide', 'work', 'stoppage', 'begin', 'purpose', 'force', 'man', 'say', 'stole', 'presidential', 'election', 'slobodan', 'milosevic', 'people', 'accept', 'victim', 'hostage', 'one', 'person', 'milosevic', 'time', 'working', 'pressure', 'work', 'four', 'years', 'ago', 'hundreds', 'thousands', 'serbs', 'marched', 'milosevic', 'calling', 'general', 'strike', 'well', 'protest', 'lasted', 'three', 'months', 'milosevic', 'survived', 'real', 'question', 'opposition', 'power', 'confront', 'regime', 'combined', 'wealth', 'get', 'rid', 'case', 'point', 'coal', 'mine', 'heart', 'economy', 'strike', 'handful', 'workers', 'guarding', 'equipment', 'week', 'electricity', 'reserves', 'engineers', 'worried', 'blackouts', 'making', 'gesture', 'try', 'make', 'regime', 'come', 'senses', 'difficulties', 'spreading', 'word', 'strike', 'independent', 'radio', 'station', 'b-292', 'shut', 'three', 'times', 'signal', 'jammed', 'belgrade', 'leaving', 'journalists', 'frustrated', 'waiting', 'better', 'time', 'people', 'belgrade', 'hear', 'listening', 'radio', 'poorly', 'organized', 'opposition', 'rallies', 'shrinking', 'drawing', 'barely', '10000', 'belgrade', 'opposition', 'leaders', 'hope', 'change', 'tomorrow', 'civil', 'disobedience', 'throughout', 'land', 'may', 'give', 'new', 'life', 'struggle', 'oust', 'milosevic', 'jim', 'maceda', 'nbc', 'news', 'belgrade', 'nbc', 'twohour', 'serbia', 'b292']\n"
     ]
    }
   ],
   "source": [
    "stop_tokens = [i for i in tokens if i not in stopword]\n",
    "print(stop_tokens)"
   ]
  },
  {
   "cell_type": "markdown",
   "id": "f3e5a1b1",
   "metadata": {},
   "source": [
    "## Stemming\n",
    "Using Porter's algorithm"
   ]
  },
  {
   "cell_type": "code",
   "execution_count": 21,
   "id": "9c27fba9",
   "metadata": {},
   "outputs": [],
   "source": [
    "from nltk.stem import PorterStemmer\n",
    "\n",
    "porter = PorterStemmer()\n",
    "stemming_tokens = [porter.stem(i) for i in stop_tokens]"
   ]
  },
  {
   "cell_type": "code",
   "execution_count": 22,
   "id": "36b0c212",
   "metadata": {},
   "outputs": [
    {
     "name": "stdout",
     "output_type": "stream",
     "text": [
      "['white', 'hous', 'also', 'keep', 'close', 'watch', 'yugoslavia', 'opposit', 'forc', 'step', 'pressur', 'presid', 'slobodan', 'milosev', 'work', 'jim', 'maceda', 'belgrad', 'tonight', 'serbia', 'eve', 'gener', 'strike', 'two-hour', 'roadblock', 'tast', 'come', 'tomorrow', 'say', 'opposit', 'nationwid', 'work', 'stoppag', 'begin', 'purpos', 'forc', 'man', 'say', 'stole', 'presidenti', 'elect', 'slobodan', 'milosev', 'peopl', 'accept', 'victim', 'hostag', 'one', 'person', 'milosev', 'time', 'work', 'pressur', 'work', 'four', 'year', 'ago', 'hundr', 'thousand', 'serb', 'march', 'milosev', 'call', 'gener', 'strike', 'well', 'protest', 'last', 'three', 'month', 'milosev', 'surviv', 'real', 'question', 'opposit', 'power', 'confront', 'regim', 'combin', 'wealth', 'get', 'rid', 'case', 'point', 'coal', 'mine', 'heart', 'economi', 'strike', 'hand', 'worker', 'guard', 'equip', 'week', 'electr', 'reserv', 'engin', 'worri', 'blackout', 'make', 'gestur', 'tri', 'make', 'regim', 'come', 'sens', 'difficulti', 'spread', 'word', 'strike', 'independ', 'radio', 'station', 'b-292', 'shut', 'three', 'time', 'signal', 'jam', 'belgrad', 'leav', 'journalist', 'frustrat', 'wait', 'better', 'time', 'peopl', 'belgrad', 'hear', 'listen', 'radio', 'poorli', 'organ', 'opposit', 'ralli', 'shrink', 'draw', 'bare', '10000', 'belgrad', 'opposit', 'leader', 'hope', 'chang', 'tomorrow', 'civil', 'disobedi', 'throughout', 'land', 'may', 'give', 'new', 'life', 'struggl', 'oust', 'milosev', 'jim', 'maceda', 'nbc', 'news', 'belgrad', 'nbc', 'twohour', 'serbia', 'b292']\n"
     ]
    }
   ],
   "source": [
    "print(stemming_tokens)"
   ]
  },
  {
   "cell_type": "code",
   "execution_count": 23,
   "id": "e79d4318",
   "metadata": {},
   "outputs": [],
   "source": [
    "output_words = ' '.join(stemming_tokens)\n",
    "path = 'result.txt'\n",
    "f = open(path, 'w')\n",
    "f.write(output_words)\n",
    "f.close()"
   ]
  }
 ],
 "metadata": {
  "kernelspec": {
   "display_name": "Python 3",
   "language": "python",
   "name": "python3"
  },
  "language_info": {
   "codemirror_mode": {
    "name": "ipython",
    "version": 3
   },
   "file_extension": ".py",
   "mimetype": "text/x-python",
   "name": "python",
   "nbconvert_exporter": "python",
   "pygments_lexer": "ipython3",
   "version": "3.10.7"
  }
 },
 "nbformat": 4,
 "nbformat_minor": 5
}

{
 "cells": [
  {
   "cell_type": "markdown",
   "id": "5f718951",
   "metadata": {},
   "source": [
    "# hw1\n",
    "extract terms from document"
   ]
  },
  {
   "cell_type": "code",
   "execution_count": 1,
   "id": "412e5c77",
   "metadata": {},
   "outputs": [],
   "source": [
    "with open(\"1.txt\", \"r\") as file:\n",
    "    doc = file.read()"
   ]
  },
  {
   "cell_type": "code",
   "execution_count": 3,
   "id": "3fa2226b",
   "metadata": {},
   "outputs": [
    {
     "name": "stdout",
     "output_type": "stream",
     "text": [
      "the white house is also keeping a close watch on yugoslavia, where \n",
      "opposition forces are about to step up the pressure on president slobodan \n",
      "milosevic. but will it work? nbc's jim maceda is in belgrade tonight. \n",
      "serbia on the eve of a general strike. this two-hour roadblock is \n",
      "just a taste of what will come tomorrow, says the opposition, when \n",
      "a nationwide work stoppage is to begin. the purpose, to force out \n",
      "the man they say stole the presidential election, slobodan milosevic. \n",
      "the people don't accept to be victim and to be hostage of one person, \n",
      "milosevic. time is working against him now. but will the pressure \n",
      "work? four years ago, hundreds of thousands of serbs marched against \n",
      "milosevic calling for a general strike as well. the protest lasted \n",
      "three months, but milosevic survived. that's the real question. does \n",
      "the opposition have the power to confront the regime with its combined \n",
      "wealth to get rid of it? a case in point. these coal mine, the very \n",
      "heart of serbia's economy, now on strike, only a handful of workers \n",
      "guarding equipment. but with a week of electricity reserves, these \n",
      "engineers are worried about blackouts. \"we're just making a gesture \n",
      "to try to make this regime come to its senses.\" there are difficulties, \n",
      "too, spreading the word about the strike. independent radio station \n",
      "b-292 has been shut down three times. its signal jammed in belgrade \n",
      "leaving journalists frustrated. i'm waiting for a better time when \n",
      "people in belgrade can hear and listening my radio. poorly organized \n",
      "opposition rallies have been shrinking, now drawing barely 10,000 \n",
      "in belgrade. but opposition leaders hope all that will change tomorrow \n",
      "and civil disobedience throughout the land may give new life to their \n",
      "struggle to oust milosevic. jim maceda, nbc news, belgrade.\n"
     ]
    }
   ],
   "source": [
    "print(doc)"
   ]
  },
  {
   "cell_type": "markdown",
   "id": "997e3ff0",
   "metadata": {},
   "source": [
    "## Tokenization & Lowercase\n",
    "1. 把標點符號去掉\n",
    "2. 連接詞、結尾 's 處理\n",
    "3. 斷詞\n",
    "4. lowercase"
   ]
  },
  {
   "cell_type": "code",
   "execution_count": 4,
   "id": "e3781ab3",
   "metadata": {},
   "outputs": [
    {
     "name": "stdout",
     "output_type": "stream",
     "text": [
      "['the', 'white', 'house', 'is', 'also', 'keeping', 'a', 'close', 'watch', 'on', 'yugoslavia,', 'where', '\\nopposition', 'forces', 'are', 'about', 'to', 'step', 'up', 'the', 'pressure', 'on', 'president', 'slobodan', '\\nmilosevic.', 'but', 'will', 'it', 'work?', \"nbc's\", 'jim', 'maceda', 'is', 'in', 'belgrade', 'tonight.', '\\nserbia', 'on', 'the', 'eve', 'of', 'a', 'general', 'strike.', 'this', 'two-hour', 'roadblock', 'is', '\\njust', 'a', 'taste', 'of', 'what', 'will', 'come', 'tomorrow,', 'says', 'the', 'opposition,', 'when', '\\na', 'nationwide', 'work', 'stoppage', 'is', 'to', 'begin.', 'the', 'purpose,', 'to', 'force', 'out', '\\nthe', 'man', 'they', 'say', 'stole', 'the', 'presidential', 'election,', 'slobodan', 'milosevic.', '\\nthe', 'people', \"don't\", 'accept', 'to', 'be', 'victim', 'and', 'to', 'be', 'hostage', 'of', 'one', 'person,', '\\nmilosevic.', 'time', 'is', 'working', 'against', 'him', 'now.', 'but', 'will', 'the', 'pressure', '\\nwork?', 'four', 'years', 'ago,', 'hundreds', 'of', 'thousands', 'of', 'serbs', 'marched', 'against', '\\nmilosevic', 'calling', 'for', 'a', 'general', 'strike', 'as', 'well.', 'the', 'protest', 'lasted', '\\nthree', 'months,', 'but', 'milosevic', 'survived.', \"that's\", 'the', 'real', 'question.', 'does', '\\nthe', 'opposition', 'have', 'the', 'power', 'to', 'confront', 'the', 'regime', 'with', 'its', 'combined', '\\nwealth', 'to', 'get', 'rid', 'of', 'it?', 'a', 'case', 'in', 'point.', 'these', 'coal', 'mine,', 'the', 'very', '\\nheart', 'of', \"serbia's\", 'economy,', 'now', 'on', 'strike,', 'only', 'a', 'handful', 'of', 'workers', '\\nguarding', 'equipment.', 'but', 'with', 'a', 'week', 'of', 'electricity', 'reserves,', 'these', '\\nengineers', 'are', 'worried', 'about', 'blackouts.', '\"we\\'re', 'just', 'making', 'a', 'gesture', '\\nto', 'try', 'to', 'make', 'this', 'regime', 'come', 'to', 'its', 'senses.\"', 'there', 'are', 'difficulties,', '\\ntoo,', 'spreading', 'the', 'word', 'about', 'the', 'strike.', 'independent', 'radio', 'station', '\\nb-292', 'has', 'been', 'shut', 'down', 'three', 'times.', 'its', 'signal', 'jammed', 'in', 'belgrade', '\\nleaving', 'journalists', 'frustrated.', \"i'm\", 'waiting', 'for', 'a', 'better', 'time', 'when', '\\npeople', 'in', 'belgrade', 'can', 'hear', 'and', 'listening', 'my', 'radio.', 'poorly', 'organized', '\\nopposition', 'rallies', 'have', 'been', 'shrinking,', 'now', 'drawing', 'barely', '10,000', '\\nin', 'belgrade.', 'but', 'opposition', 'leaders', 'hope', 'all', 'that', 'will', 'change', 'tomorrow', '\\nand', 'civil', 'disobedience', 'throughout', 'the', 'land', 'may', 'give', 'new', 'life', 'to', 'their', '\\nstruggle', 'to', 'oust', 'milosevic.', 'jim', 'maceda,', 'nbc', 'news,', 'belgrade.']\n"
     ]
    }
   ],
   "source": [
    "tokens = [i for i in doc.split(\" \")]\n",
    "print(tokens)"
   ]
  }
 ],
 "metadata": {
  "kernelspec": {
   "display_name": "Python 3",
   "language": "python",
   "name": "python3"
  },
  "language_info": {
   "codemirror_mode": {
    "name": "ipython",
    "version": 3
   },
   "file_extension": ".py",
   "mimetype": "text/x-python",
   "name": "python",
   "nbconvert_exporter": "python",
   "pygments_lexer": "ipython3",
   "version": "3.10.7"
  }
 },
 "nbformat": 4,
 "nbformat_minor": 5
}
